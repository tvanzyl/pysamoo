{
 "cells": [
  {
   "cell_type": "code",
   "execution_count": 1,
   "metadata": {},
   "outputs": [
    {
     "name": "stdout",
     "output_type": "stream",
     "text": [
      "=========================================================================================================\n",
      "n_gen |  n_eval |     igd      |      gd      |      hv      | n_influenced |  nds_score   |   n_front   \n",
      "=========================================================================================================\n",
      "    1 |      20 |  1.911750382 |  2.574224274 |  0.00000E+00 |            - |  0.392727935 |            5\n",
      "    2 |      30 |  1.910986804 |  2.306817818 |  0.00000E+00 |        10/10 |  0.419572567 |            9\n",
      "    3 |      40 |  1.357518097 |  1.627865854 |  0.00000E+00 |        10/10 |  0.511606373 |            5\n",
      "    4 |      50 |  0.907656873 |  1.261467797 |  0.00000E+00 |        10/10 |  0.178005081 |            9\n",
      "    5 |      60 |  0.655255002 |  1.139579799 |  0.033970177 |        10/10 |  0.468240663 |            8\n",
      "    6 |      70 |  0.594312047 |  1.140259822 |  0.072077466 |        10/10 |  0.518155128 |           12\n",
      "    7 |      80 |  0.350195346 |  0.572826031 |  0.208823422 |        10/10 |  0.582929335 |            5\n",
      "    8 |      90 |  0.203138661 |  0.237158632 |  0.323406834 |        10/10 |  0.542097293 |            7\n",
      "    9 |     100 |  0.112404274 |  0.040063039 |  0.490594084 |        10/10 |  0.457586148 |            6\n",
      "   10 |     110 |  0.083200994 |  0.024782309 |  0.541767019 |        10/10 |  0.474228338 |           11\n",
      "   11 |     120 |  0.062234512 |  0.017389786 |  0.573755516 |        10/10 |  0.474508866 |           17\n",
      "   12 |     130 |  0.061756709 |  0.012528590 |  0.575328486 |        10/10 |  0.393355748 |           24\n",
      "   13 |     140 |  0.042521032 |  0.011337388 |  0.606080616 |        10/10 |  0.383590310 |           32\n",
      "   14 |     150 |  0.041966111 |  0.009563448 |  0.607119795 |        10/10 |  0.404989021 |           36\n",
      "   15 |     160 |  0.040893434 |  0.008256826 |  0.608617745 |        10/10 |  0.312589281 |           42\n",
      "   16 |     170 |  0.040872734 |  0.007792190 |  0.608635920 |        10/10 |  0.383004271 |           45\n",
      "   17 |     180 |  0.029285788 |  0.003734037 |  0.627832166 |        10/10 |  0.284639624 |           47\n",
      "   18 |     190 |  0.026833139 |  0.003598233 |  0.632964036 |        10/10 |  0.238661033 |           55\n",
      "   19 |     200 |  0.019137967 |  0.003397207 |  0.641169863 |        10/10 |  0.320062428 |           59\n",
      "   20 |     210 |  0.018839485 |  0.003306146 |  0.641622638 |        10/10 |  0.279709386 |           62\n",
      "   21 |     220 |  0.017332513 |  0.003240250 |  0.643374034 |        10/10 |  0.319119164 |           67\n",
      "   22 |     230 |  0.015899367 |  0.003202792 |  0.644591578 |        10/10 |  0.314003283 |           74\n",
      "   23 |     240 |  0.014420290 |  0.003077274 |  0.646438173 |        10/10 |  0.280498731 |           84\n",
      "   24 |     250 |  0.014236396 |  0.003032914 |  0.646688426 |        10/10 |  0.289725762 |           91\n"
     ]
    }
   ],
   "source": [
    "from pymoo.algorithms.moo.nsga2 import NSGA2\n",
    "from pymoo.algorithms.moo.nsga3 import NSGA3\n",
    "from pymoo.experimental.algorithms.mo_cma_es import MO_CMAES\n",
    "from pymoo.factory import get_reference_directions\n",
    "from pymoo.optimize import minimize\n",
    "from pymoo.problems.multi import ZDT1, TNK\n",
    "from pymoo.visualization.scatter import Scatter\n",
    "from pysamoo.experimental.ParDen import ParDen\n",
    "\n",
    "from sklearn.gaussian_process import GaussianProcessRegressor\n",
    "from sklearn.gaussian_process.kernels import RBF\n",
    "gaussian_process = GaussianProcessRegressor()\n",
    "\n",
    "problem = ZDT1(n_var=10)\n",
    "\n",
    "ref_dirs = get_reference_directions(\"das-dennis\", 2, n_points=20)\n",
    "\n",
    "# algorithm = NSGA2(pop_size=20, n_offsprings=10, ref_dirs=ref_dirs)\n",
    "\n",
    "algorithm = MO_CMAES(mu=20, sigma=0.1, lambda_=10)\n",
    "\n",
    "algorithm = ParDen(algorithm,\n",
    "                   n_initial_doe=20,\n",
    "                   surrogate=gaussian_process, \n",
    "                   twopoint0=True,\n",
    "                   beta=10)\n",
    "\n",
    "res = minimize(\n",
    "    problem,\n",
    "    algorithm,\n",
    "    ('n_evals', 250),\n",
    "    seed=1,\n",
    "    verbose=True)"
   ]
  },
  {
   "cell_type": "code",
   "execution_count": 2,
   "metadata": {},
   "outputs": [
    {
     "data": {
      "text/plain": [
       "<pymoo.visualization.scatter.Scatter at 0x7f3d0008b370>"
      ]
     },
     "execution_count": 2,
     "metadata": {},
     "output_type": "execute_result"
    },
    {
     "data": {
      "image/png": "[encoded data removed]",
      "text/plain": [
       "<Figure size 576x432 with 1 Axes>"
      ]
     },
     "metadata": {
      "needs_background": "light"
     },
     "output_type": "display_data"
    }
   ],
   "source": [
    "plot = Scatter()\n",
    "plot.add(problem.pareto_front(), plot_type=\"line\", color=\"black\", alpha=0.7)\n",
    "plot.add(res.F, facecolor=\"none\", edgecolor=\"red\")\n",
    "plot.show()"
   ]
  },
  {
   "cell_type": "code",
   "execution_count": 3,
   "metadata": {},
   "outputs": [],
   "source": [
    "# algorithm.setup(problem, seed=2, termination=('n_evals', 250))\n",
    "\n",
    "# for k in range(3):\n",
    "#     algorithm.next()\n",
    "    # print(algorithm.n_gen)"
   ]
  },
  {
   "cell_type": "code",
   "execution_count": null,
   "metadata": {},
   "outputs": [],
   "source": []
  },
  {
   "cell_type": "code",
   "execution_count": 4,
   "metadata": {},
   "outputs": [],
   "source": [
    "# res.F"
   ]
  },
  {
   "cell_type": "code",
   "execution_count": null,
   "metadata": {},
   "outputs": [],
   "source": []
  }
 ],
 "metadata": {
  "interpreter": {
   "hash": "ec556b0752b7a6764c4d452f262f6616fbdf6c871d1117b7c2e82cb251685c14"
  },
  "kernelspec": {
   "display_name": "Python 3.8.13 ('cvxport')",
   "language": "python",
   "name": "python3"
  },
  "language_info": {
   "codemirror_mode": {
    "name": "ipython",
    "version": 3
   },
   "file_extension": ".py",
   "mimetype": "text/x-python",
   "name": "python",
   "nbconvert_exporter": "python",
   "pygments_lexer": "ipython3",
   "version": "3.8.13"
  },
  "orig_nbformat": 4
 },
 "nbformat": 4,
 "nbformat_minor": 2
}
