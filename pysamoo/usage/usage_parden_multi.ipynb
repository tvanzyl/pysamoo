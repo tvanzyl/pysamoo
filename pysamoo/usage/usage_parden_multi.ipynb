{
 "cells": [
  {
   "cell_type": "code",
   "execution_count": 9,
   "metadata": {},
   "outputs": [
    {
     "name": "stdout",
     "output_type": "stream",
     "text": [
      "=========================================================================================================\n",
      "n_gen |  n_eval |     igd      |      gd      |      hv      |    beta0     |  nds_score   |   n_front   \n",
      "=========================================================================================================\n",
      "    1 |      20 |  1.911750382 |  2.574224274 |  0.00000E+00 |           -1 |  0.392727935 |            5\n",
      "    2 |      30 |  1.291787506 |  1.958253122 |  0.00000E+00 |           14 |  0.483102264 |            5\n",
      "    3 |      40 |  1.210248479 |  1.798351187 |  0.00000E+00 |           19 |  0.484535021 |            6\n",
      "    4 |      50 |  0.265371032 |  0.897373141 |  0.448206915 |           14 |  0.481160153 |            7\n",
      "    5 |      60 |  0.146261096 |  0.198105207 |  0.465337526 |           12 |  0.570603118 |           10\n",
      "    6 |      70 |  0.143005447 |  0.171677445 |  0.467360710 |            5 |  0.399467962 |           12\n",
      "    7 |      80 |  0.142614753 |  0.158979400 |  0.468120871 |           17 |  0.500026855 |           13\n",
      "    8 |      90 |  0.120373626 |  0.138335217 |  0.493354284 |           11 |  0.447017927 |           17\n",
      "    9 |     100 |  0.097589093 |  0.140283700 |  0.515327574 |           10 |  0.395648685 |           19\n",
      "   10 |     110 |  0.097606395 |  0.101858004 |  0.515348299 |           16 |  0.342177051 |           18\n",
      "   11 |     120 |  0.074102398 |  0.085132035 |  0.547092581 |           17 |  0.428592619 |           21\n",
      "   12 |     130 |  0.071950990 |  0.113788490 |  0.553588197 |            9 |  0.300749001 |           21\n",
      "   13 |     140 |  0.071437498 |  0.178630549 |  0.553872961 |           25 |  0.235542899 |           22\n",
      "   14 |     150 |  0.046641319 |  0.150193098 |  0.594780652 |            8 |  0.086012146 |           25\n",
      "   15 |     160 |  0.041438635 |  0.138931175 |  0.599514892 |            7 |  0.217154770 |           29\n",
      "   16 |     170 |  0.041419725 |  0.114664737 |  0.599566915 |           14 |  0.226107939 |           32\n",
      "   17 |     180 |  0.037592650 |  0.109785421 |  0.606683799 |            2 |  0.307616071 |           33\n",
      "   18 |     190 |  0.035674901 |  0.106881710 |  0.610783327 |           10 |  0.337920523 |           34\n",
      "   19 |     200 |  0.030247206 |  0.099073864 |  0.617907498 |           23 |  0.302382891 |           37\n",
      "   20 |     210 |  0.030221307 |  0.099020660 |  0.617951085 |           13 |  0.341282528 |           37\n",
      "   21 |     220 |  0.029853319 |  0.058010632 |  0.618665452 |           12 |  0.295199062 |           36\n",
      "   22 |     230 |  0.029722244 |  0.029950053 |  0.618962596 |            2 |  0.231348289 |           35\n",
      "   23 |     240 |  0.029612852 |  0.017779855 |  0.621240604 |            5 |  0.204264897 |           33\n",
      "   24 |     250 |  0.028127057 |  0.016719325 |  0.623000515 |           15 |  0.125156459 |           35\n"
     ]
    }
   ],
   "source": [
    "from pymoo.algorithms.moo.nsga2 import NSGA2\n",
    "from pymoo.algorithms.moo.nsga3 import NSGA3\n",
    "from pymoo.experimental.algorithms.mocmaes import MO_CMAES\n",
    "from pymoo.factory import get_reference_directions\n",
    "from pymoo.optimize import minimize\n",
    "from pymoo.problems.multi import ZDT1, TNK\n",
    "from pymoo.visualization.scatter import Scatter\n",
    "from pysamoo.experimental.ParDen import ParDen\n",
    "\n",
    "from sklearn.gaussian_process import GaussianProcessRegressor\n",
    "from sklearn.gaussian_process.kernels import RBF\n",
    "gaussian_process = GaussianProcessRegressor()\n",
    "\n",
    "problem = ZDT1(n_var=10)\n",
    "\n",
    "ref_dirs = get_reference_directions(\"das-dennis\", 2, n_points=20)\n",
    "\n",
    "algorithm = NSGA2(pop_size=20, n_offsprings=10, ref_dirs=ref_dirs)\n",
    "\n",
    "# algorithm = MO_CMAES(mu=20, sigma=0.1, lambda_=10)\n",
    "\n",
    "algorithm = ParDen(algorithm,\n",
    "                   n_initial_doe=20,\n",
    "                   surrogate=gaussian_process, \n",
    "                   nondominated_ranks=1,\n",
    "                   twopoint0=True,\n",
    "                   look_ahead=True)\n",
    "\n",
    "res = minimize(\n",
    "    problem,\n",
    "    algorithm,\n",
    "    ('n_evals', 250),\n",
    "    seed=1,\n",
    "    verbose=True)"
   ]
  },
  {
   "cell_type": "code",
   "execution_count": 10,
   "metadata": {},
   "outputs": [
    {
     "data": {
      "text/plain": [
       "<pymoo.visualization.scatter.Scatter at 0x7f78a1bbb640>"
      ]
     },
     "execution_count": 10,
     "metadata": {},
     "output_type": "execute_result"
    },
    {
     "data": {
      "image/png": "[encoded data removed]",
      "text/plain": [
       "<Figure size 576x432 with 1 Axes>"
      ]
     },
     "metadata": {
      "needs_background": "light"
     },
     "output_type": "display_data"
    }
   ],
   "source": [
    "plot = Scatter()\n",
    "plot.add(problem.pareto_front(), plot_type=\"line\", color=\"black\", alpha=0.7)\n",
    "plot.add(res.F, facecolor=\"none\", edgecolor=\"red\")\n",
    "plot.show()"
   ]
  },
  {
   "cell_type": "code",
   "execution_count": 11,
   "metadata": {},
   "outputs": [],
   "source": [
    "# algorithm.setup(problem, seed=2, termination=('n_evals', 250))\n",
    "\n",
    "# for k in range(3):\n",
    "#     algorithm.next()\n",
    "    # print(algorithm.n_gen)"
   ]
  },
  {
   "cell_type": "code",
   "execution_count": null,
   "metadata": {},
   "outputs": [],
   "source": []
  },
  {
   "cell_type": "code",
   "execution_count": 12,
   "metadata": {},
   "outputs": [],
   "source": [
    "# res.F"
   ]
  },
  {
   "cell_type": "code",
   "execution_count": null,
   "metadata": {},
   "outputs": [],
   "source": []
  }
 ],
 "metadata": {
  "interpreter": {
   "hash": "ec556b0752b7a6764c4d452f262f6616fbdf6c871d1117b7c2e82cb251685c14"
  },
  "kernelspec": {
   "display_name": "Python 3.8.13 ('cvxport')",
   "language": "python",
   "name": "python3"
  },
  "language_info": {
   "codemirror_mode": {
    "name": "ipython",
    "version": 3
   },
   "file_extension": ".py",
   "mimetype": "text/x-python",
   "name": "python",
   "nbconvert_exporter": "python",
   "pygments_lexer": "ipython3",
   "version": "3.8.13"
  },
  "orig_nbformat": 4
 },
 "nbformat": 4,
 "nbformat_minor": 2
}
