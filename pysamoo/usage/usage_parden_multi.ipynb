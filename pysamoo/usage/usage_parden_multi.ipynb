{
 "cells": [
  {
   "cell_type": "code",
   "execution_count": 1,
   "metadata": {},
   "outputs": [
    {
     "name": "stdout",
     "output_type": "stream",
     "text": [
      "=========================================================================================================\n",
      "n_gen |  n_eval |     igd      |      gd      |      hv      |     beta     |  nds_score   |   n_front   \n",
      "=========================================================================================================\n",
      "    1 |      20 |  1.911750382 |  2.574224274 |  0.00000E+00 |     -1/-1/-1 |  0.392727935 |            5\n",
      "    2 |      30 |  1.911750382 |  2.144342742 |  0.00000E+00 |     43/56/52 |  0.205009624 |            4\n",
      "    3 |      40 |  1.697973057 |  1.873319805 |  0.00000E+00 |     25/39/36 |  0.506324032 |            7\n",
      "    4 |      50 |  1.017805418 |  1.934079779 |  0.00000E+00 |     43/26/20 |  0.462990829 |            6\n",
      "    5 |      60 |  0.376402900 |  1.683991674 |  0.106153012 |     44/29/24 |  0.541995036 |           10\n",
      "    6 |      70 |  0.314733555 |  1.199832210 |  0.160394154 |     39/20/14 |  0.464397149 |            9\n",
      "    7 |      80 |  0.252855533 |  0.552209543 |  0.273577814 |     32/20/15 |  0.527781785 |            8\n",
      "    8 |      90 |  0.252855533 |  0.537299729 |  0.273577814 |     54/33/27 |  0.430273692 |            8\n",
      "    9 |     100 |  0.201515984 |  0.419534415 |  0.383867539 |     55/60/55 |  0.553935638 |            9\n",
      "   10 |     110 |  0.178334111 |  0.321329415 |  0.408747366 |     46/27/21 |  0.664008246 |           11\n",
      "   11 |     120 |  0.111094290 |  0.251389738 |  0.485818694 |     36/24/17 |  0.519272073 |           15\n",
      "   12 |     130 |  0.111050972 |  0.121112108 |  0.486256665 |     73/62/56 |  0.421961556 |           17\n",
      "   13 |     140 |  0.098467772 |  0.106683439 |  0.507135938 |      37/14/9 |  0.502529536 |           22\n",
      "   14 |     150 |  0.094108644 |  0.100562748 |  0.509566977 |     36/16/10 |  0.393858447 |           24\n",
      "   15 |     160 |  0.082168422 |  0.092531595 |  0.529198151 |     43/23/19 |  0.353101628 |           26\n",
      "   16 |     170 |  0.074764431 |  0.086332527 |  0.541908492 |       30/8/4 |  0.436928970 |           25\n",
      "   17 |     180 |  0.074571285 |  0.094819854 |  0.542629453 |     45/34/29 |  0.246145570 |           27\n",
      "   18 |     190 |  0.073179803 |  0.074735429 |  0.544800893 |     39/14/11 |  0.265928121 |           26\n",
      "   19 |     200 |  0.071624063 |  0.072522894 |  0.546476843 |       24/6/3 |  0.240695487 |           29\n",
      "   20 |     210 |  0.068012167 |  0.068808025 |  0.551912999 |     42/21/18 |  0.260226679 |           28\n",
      "   21 |     220 |  0.065553759 |  0.063832589 |  0.555227614 |      34/11/8 |  0.401746720 |           28\n",
      "   22 |     230 |  0.062461709 |  0.059994429 |  0.558970694 |      29/10/5 |  0.270565703 |           28\n",
      "   23 |     240 |  0.061630861 |  0.053138298 |  0.560341771 |       25/6/3 |  0.258521383 |           29\n",
      "   24 |     250 |  0.059185594 |  0.049223501 |  0.565818679 |     37/14/11 |  0.343918799 |           26\n"
     ]
    }
   ],
   "source": [
    "from pymoo.algorithms.moo.nsga2 import NSGA2\n",
    "from pymoo.algorithms.moo.nsga3 import NSGA3\n",
    "from pymoo.experimental.algorithms.mocmaes import MO_CMAES\n",
    "from pymoo.factory import get_reference_directions\n",
    "from pymoo.optimize import minimize\n",
    "from pymoo.problems.multi import ZDT1, TNK\n",
    "from pymoo.visualization.scatter import Scatter\n",
    "from pysamoo.experimental.ParDen import ParDen\n",
    "\n",
    "from sklearn.gaussian_process import GaussianProcessRegressor\n",
    "gaussian_process = GaussianProcessRegressor()\n",
    "\n",
    "problem = ZDT1(n_var=10)\n",
    "\n",
    "ref_dirs = get_reference_directions(\"das-dennis\", 2, n_points=20)\n",
    "\n",
    "algorithm = NSGA2(pop_size=20, n_offsprings=10, ref_dirs=ref_dirs)\n",
    "\n",
    "# algorithm = MO_CMAES(mu=20, sigma=0.1, lambda_=10)\n",
    "\n",
    "algorithm = ParDen(algorithm,\n",
    "                   n_initial_doe=20,\n",
    "                   surrogate=gaussian_process, \n",
    "                   maxfill=True,\n",
    "                   look_ahead=True)\n",
    "\n",
    "res = minimize(\n",
    "    problem,\n",
    "    algorithm,\n",
    "    ('n_evals', 250),\n",
    "    seed=1,\n",
    "    verbose=True)"
   ]
  },
  {
   "cell_type": "code",
   "execution_count": 2,
   "metadata": {},
   "outputs": [
    {
     "data": {
      "text/plain": [
       "<pymoo.visualization.scatter.Scatter at 0x7f3b01b78250>"
      ]
     },
     "execution_count": 2,
     "metadata": {},
     "output_type": "execute_result"
    },
    {
     "data": {
      "image/png": "[encoded data removed]",
      "text/plain": [
       "<Figure size 576x432 with 1 Axes>"
      ]
     },
     "metadata": {
      "needs_background": "light"
     },
     "output_type": "display_data"
    }
   ],
   "source": [
    "plot = Scatter()\n",
    "plot.add(problem.pareto_front(), plot_type=\"line\", color=\"black\", alpha=0.7)\n",
    "plot.add(res.F, facecolor=\"none\", edgecolor=\"red\")\n",
    "plot.show()"
   ]
  },
  {
   "cell_type": "code",
   "execution_count": 3,
   "metadata": {},
   "outputs": [],
   "source": [
    "# algorithm.setup(problem, seed=2, termination=('n_evals', 250))\n",
    "\n",
    "# for k in range(3):\n",
    "#     algorithm.next()\n",
    "    # print(algorithm.n_gen)"
   ]
  },
  {
   "cell_type": "code",
   "execution_count": 4,
   "metadata": {},
   "outputs": [],
   "source": [
    "import numpy as np\n",
    "\n",
    "arr = np.array([[ 0.72676698,  0.93213482],\n",
    "                [-0.30565392, -0.96605562],\n",
    "                [ 0.85331367, -2.62963495],\n",
    "                [ 0.87839643, -0.28283675],\n",
    "                [ 0.72676698,  0.93213482],\n",
    "                [-0.52007354,  0.27752806],\n",
    "                [-0.08701666,  0.22764316],\n",
    "                [-1.78897817,  0.50737573],\n",
    "                [ 0.62260038, -1.96012161],\n",
    "                [-1.98231706,  0.36523876],\n",
    "                [-1.07587382, -2.3022289 ]])\n"
   ]
  },
  {
   "cell_type": "code",
   "execution_count": 5,
   "metadata": {},
   "outputs": [
    {
     "data": {
      "text/plain": [
       "array([[ True,  True],\n",
       "       [ True,  True],\n",
       "       [ True,  True],\n",
       "       [ True,  True],\n",
       "       [ True,  True],\n",
       "       [ True,  True],\n",
       "       [ True,  True],\n",
       "       [ True,  True],\n",
       "       [ True,  True],\n",
       "       [ True,  True],\n",
       "       [ True,  True]])"
      ]
     },
     "execution_count": 5,
     "metadata": {},
     "output_type": "execute_result"
    }
   ],
   "source": [
    "np.isin(arr, arr)"
   ]
  },
  {
   "cell_type": "code",
   "execution_count": 6,
   "metadata": {},
   "outputs": [
    {
     "data": {
      "text/plain": [
       "(array([[-1.98231706,  0.36523876],\n",
       "        [-1.78897817,  0.50737573],\n",
       "        [-1.07587382, -2.3022289 ],\n",
       "        [-0.52007354,  0.27752806],\n",
       "        [-0.30565392, -0.96605562],\n",
       "        [-0.08701666,  0.22764316],\n",
       "        [ 0.62260038, -1.96012161],\n",
       "        [ 0.72676698,  0.93213482],\n",
       "        [ 0.85331367, -2.62963495],\n",
       "        [ 0.87839643, -0.28283675]]),\n",
       " array([7, 4, 8, 9, 7, 3, 5, 1, 6, 0, 2]))"
      ]
     },
     "execution_count": 6,
     "metadata": {},
     "output_type": "execute_result"
    }
   ],
   "source": [
    "np.unique(arr, axis=0, return_inverse=True)"
   ]
  },
  {
   "cell_type": "code",
   "execution_count": 7,
   "metadata": {},
   "outputs": [
    {
     "data": {
      "text/plain": [
       "array([[ 0.72676698,  0.93213482],\n",
       "       [-0.30565392, -0.96605562],\n",
       "       [ 0.85331367, -2.62963495],\n",
       "       [ 0.87839643, -0.28283675],\n",
       "       [ 0.72676698,  0.93213482],\n",
       "       [-0.52007354,  0.27752806],\n",
       "       [-0.08701666,  0.22764316],\n",
       "       [-1.78897817,  0.50737573],\n",
       "       [ 0.62260038, -1.96012161],\n",
       "       [-1.98231706,  0.36523876],\n",
       "       [-1.07587382, -2.3022289 ]])"
      ]
     },
     "execution_count": 7,
     "metadata": {},
     "output_type": "execute_result"
    }
   ],
   "source": [
    "arr"
   ]
  },
  {
   "cell_type": "code",
   "execution_count": null,
   "metadata": {},
   "outputs": [],
   "source": []
  }
 ],
 "metadata": {
  "kernelspec": {
   "display_name": "Python 3.8.13 ('cvxport')",
   "language": "python",
   "name": "python3"
  },
  "language_info": {
   "codemirror_mode": {
    "name": "ipython",
    "version": 3
   },
   "file_extension": ".py",
   "mimetype": "text/x-python",
   "name": "python",
   "nbconvert_exporter": "python",
   "pygments_lexer": "ipython3",
   "version": "3.8.13"
  },
  "orig_nbformat": 4,
  "vscode": {
   "interpreter": {
    "hash": "40a856b0933f00b68c1478605e2e63687e55e17aeb40c26b3f1aea9ab7d08bd1"
   }
  }
 },
 "nbformat": 4,
 "nbformat_minor": 2
}
