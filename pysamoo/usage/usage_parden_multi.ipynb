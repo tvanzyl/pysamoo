{
 "cells": [
  {
   "cell_type": "code",
   "execution_count": 1,
   "metadata": {},
   "outputs": [
    {
     "name": "stdout",
     "output_type": "stream",
     "text": [
      "=========================================================================================================\n",
      "n_gen |  n_eval |     igd      |      gd      |      hv      |     beta     |  nds_score   |   n_front   \n",
      "=========================================================================================================\n",
      "    1 |      20 |  1.911750382 |  2.574224274 |  0.00000E+00 |        -1/-1 |  0.392727935 |            5\n",
      "    2 |      30 |  1.884971666 |  1.722698625 |  0.00000E+00 |        9/120 |  0.728992402 |            7\n",
      "    3 |      40 |  1.071389747 |  1.752249762 |  0.00000E+00 |        15/46 |  0.757526231 |            9\n",
      "    4 |      50 |  0.373940522 |  1.605264945 |  0.225790573 |        22/84 |  0.658025779 |            9\n",
      "    5 |      60 |  0.299065458 |  0.755570321 |  0.271885819 |        22/91 |  0.712341623 |            7\n",
      "    6 |      70 |  0.269077226 |  0.792067453 |  0.304986670 |        11/27 |  0.632850848 |            9\n",
      "    7 |      80 |  0.099785078 |  0.618076643 |  0.518693296 |        21/99 |  0.639863608 |           11\n",
      "    8 |      90 |  0.071608448 |  0.299044994 |  0.547408201 |        22/69 |  0.695210936 |           14\n",
      "    9 |     100 |  0.062807012 |  0.203632811 |  0.564931905 |       24/117 |  0.573521158 |           17\n",
      "   10 |     110 |  0.055182420 |  0.282255916 |  0.576196490 |         9/20 |  0.524787638 |           18\n",
      "   11 |     120 |  0.048229989 |  0.124246938 |  0.585682396 |         9/26 |  0.722314346 |           19\n",
      "   12 |     130 |  0.048287385 |  0.102105583 |  0.585909239 |       27/140 |  0.511651469 |           20\n",
      "   13 |     140 |  0.046069118 |  0.082129868 |  0.589678040 |        24/90 |  0.356293546 |           22\n",
      "   14 |     150 |  0.045983927 |  0.069093733 |  0.589786065 |         3/10 |  0.340580948 |           22\n",
      "   15 |     160 |  0.044084600 |  0.062211865 |  0.594198824 |       13/184 |  0.396722906 |           26\n",
      "   16 |     170 |  0.041704053 |  0.019318184 |  0.596684825 |        10/58 |  0.435309586 |           25\n",
      "   17 |     180 |  0.039059114 |  0.019116475 |  0.600045237 |         7/22 |  0.311040949 |           29\n",
      "   18 |     190 |  0.038373709 |  0.018691788 |  0.600454532 |         7/19 |  0.370173219 |           32\n",
      "   19 |     200 |  0.037325494 |  0.046891536 |  0.603096190 |       10/198 |  0.149834122 |           34\n",
      "   20 |     210 |  0.031388937 |  0.068427577 |  0.612180750 |       13/223 |  0.121062205 |           37\n",
      "   21 |     220 |  0.031116970 |  0.056672447 |  0.612663932 |         6/24 |  0.088133948 |           39\n",
      "   22 |     230 |  0.031103989 |  0.056656851 |  0.612696441 |         5/12 |  0.083084033 |           39\n",
      "   23 |     240 |  0.028940999 |  0.050831602 |  0.617802204 |         8/59 |  0.028458526 |           41\n",
      "   24 |     250 |  0.027163321 |  0.049823406 |  0.620504012 |         3/43 |  0.022968791 |           44\n"
     ]
    }
   ],
   "source": [
    "from pymoo.algorithms.moo.nsga2 import NSGA2\n",
    "from pymoo.algorithms.moo.nsga3 import NSGA3\n",
    "from pymoo.experimental.algorithms.mocmaes import MO_CMAES\n",
    "from pymoo.factory import get_reference_directions\n",
    "from pymoo.optimize import minimize\n",
    "from pymoo.problems.multi import ZDT1, TNK\n",
    "from pymoo.visualization.scatter import Scatter\n",
    "from pysamoo.experimental.ParDen import ParDen\n",
    "\n",
    "from sklearn.gaussian_process import GaussianProcessRegressor\n",
    "from sklearn.gaussian_process.kernels import RBF\n",
    "gaussian_process = GaussianProcessRegressor()\n",
    "\n",
    "problem = ZDT1(n_var=10)\n",
    "\n",
    "ref_dirs = get_reference_directions(\"das-dennis\", 2, n_points=20)\n",
    "\n",
    "algorithm = NSGA2(pop_size=20, n_offsprings=10, ref_dirs=ref_dirs)\n",
    "\n",
    "# algorithm = MO_CMAES(mu=20, sigma=0.1, lambda_=10)\n",
    "\n",
    "algorithm = ParDen(algorithm,\n",
    "                   n_initial_doe=20,\n",
    "                   surrogate=gaussian_process, \n",
    "                   maxfill=True,\n",
    "                   look_ahead=True)\n",
    "\n",
    "res = minimize(\n",
    "    problem,\n",
    "    algorithm,\n",
    "    ('n_evals', 250),\n",
    "    seed=1,\n",
    "    verbose=True)"
   ]
  },
  {
   "cell_type": "code",
   "execution_count": 2,
   "metadata": {},
   "outputs": [
    {
     "data": {
      "text/plain": [
       "<pymoo.visualization.scatter.Scatter at 0x7f17051f7340>"
      ]
     },
     "execution_count": 2,
     "metadata": {},
     "output_type": "execute_result"
    },
    {
     "data": {
      "image/png": "[encoded data removed]",
      "text/plain": [
       "<Figure size 576x432 with 1 Axes>"
      ]
     },
     "metadata": {
      "needs_background": "light"
     },
     "output_type": "display_data"
    }
   ],
   "source": [
    "plot = Scatter()\n",
    "plot.add(problem.pareto_front(), plot_type=\"line\", color=\"black\", alpha=0.7)\n",
    "plot.add(res.F, facecolor=\"none\", edgecolor=\"red\")\n",
    "plot.show()"
   ]
  },
  {
   "cell_type": "code",
   "execution_count": 3,
   "metadata": {},
   "outputs": [],
   "source": [
    "# algorithm.setup(problem, seed=2, termination=('n_evals', 250))\n",
    "\n",
    "# for k in range(3):\n",
    "#     algorithm.next()\n",
    "    # print(algorithm.n_gen)"
   ]
  },
  {
   "cell_type": "code",
   "execution_count": null,
   "metadata": {},
   "outputs": [],
   "source": []
  },
  {
   "cell_type": "code",
   "execution_count": 4,
   "metadata": {},
   "outputs": [],
   "source": [
    "# res.F"
   ]
  },
  {
   "cell_type": "code",
   "execution_count": null,
   "metadata": {},
   "outputs": [],
   "source": []
  }
 ],
 "metadata": {
  "kernelspec": {
   "display_name": "Python 3.8.13 ('cvxport')",
   "language": "python",
   "name": "python3"
  },
  "language_info": {
   "codemirror_mode": {
    "name": "ipython",
    "version": 3
   },
   "file_extension": ".py",
   "mimetype": "text/x-python",
   "name": "python",
   "nbconvert_exporter": "python",
   "pygments_lexer": "ipython3",
   "version": "3.8.13"
  },
  "orig_nbformat": 4,
  "vscode": {
   "interpreter": {
    "hash": "40a856b0933f00b68c1478605e2e63687e55e17aeb40c26b3f1aea9ab7d08bd1"
   }
  }
 },
 "nbformat": 4,
 "nbformat_minor": 2
}
